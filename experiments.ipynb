{
 "cells": [
  {
   "cell_type": "markdown",
   "metadata": {},
   "source": [
    "### Experiments Notebook"
   ]
  },
  {
   "cell_type": "code",
   "execution_count": 3,
   "metadata": {},
   "outputs": [
    {
     "name": "stdout",
     "output_type": "stream",
     "text": [
      "False\n",
      "True\n",
      "2\n",
      "0\n",
      "-1\n",
      "1\n"
     ]
    }
   ],
   "source": [
    "from pattern import Pattern\n",
    "\n",
    "p1 = Pattern(['x', 'x'])\n",
    "p2 = Pattern(['1', 'x'])\n",
    "\n",
    "print(p1 == p2)  # False\n",
    "print(p1.is_ancestor_of(p2))  # True\n",
    "print(p1.get_dimension())  # 2\n",
    "print(p1.get_level())  # 0\n",
    "print(p1.find_right_most_deterministic_index())  # -1\n",
    "print(p1.find_right_most_non_deterministic_index())  # 1)"
   ]
  }
 ],
 "metadata": {
  "kernelspec": {
   "display_name": "base",
   "language": "python",
   "name": "python3"
  },
  "language_info": {
   "codemirror_mode": {
    "name": "ipython",
    "version": 3
   },
   "file_extension": ".py",
   "mimetype": "text/x-python",
   "name": "python",
   "nbconvert_exporter": "python",
   "pygments_lexer": "ipython3",
   "version": "3.11.6"
  }
 },
 "nbformat": 4,
 "nbformat_minor": 2
}
